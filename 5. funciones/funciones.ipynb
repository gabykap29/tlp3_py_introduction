{
 "cells": [
  {
   "cell_type": "markdown",
   "metadata": {},
   "source": [
    "### Sintaxis:\n",
    "\n",
    "* Se pueden definir utilizando la palabra clave **def** seguida del nombre de la función y sus parámetros"
   ]
  },
  {
   "cell_type": "code",
   "execution_count": null,
   "metadata": {},
   "outputs": [],
   "source": [
    "def nombre_funcion(parametro1, parametro2):\n",
    "    # Bloque de código\n",
    "    return #resultado\n"
   ]
  },
  {
   "cell_type": "markdown",
   "metadata": {},
   "source": [
    "* Ejemplo"
   ]
  },
  {
   "cell_type": "code",
   "execution_count": null,
   "metadata": {},
   "outputs": [],
   "source": [
    "def saludar(nombre):\n",
    "    print(f\"Hola, {nombre}!\")\n",
    "\n",
    "saludar(\"Juan\")\n"
   ]
  },
  {
   "cell_type": "markdown",
   "metadata": {},
   "source": [
    "* Las funciones pueden o no tener parametros\n",
    "* Las funciones pueden o no recibir argumentos\n",
    "* Las funciones pueden o no tener retornos\n",
    "* Funciones con parametros por defecto:"
   ]
  },
  {
   "cell_type": "code",
   "execution_count": null,
   "metadata": {},
   "outputs": [],
   "source": [
    "def saludar(nombre=\"amigo\"):\n",
    "    print(f\"Hola, {nombre}!\")\n",
    "\n",
    "saludar(\"Juan\") \n",
    "saludar()"
   ]
  },
  {
   "cell_type": "markdown",
   "metadata": {},
   "source": [
    "* Las funciones pueden anidarse"
   ]
  },
  {
   "cell_type": "code",
   "execution_count": null,
   "metadata": {},
   "outputs": [],
   "source": [
    "def funcion_principal():\n",
    "    def funcion_interna():\n",
    "        print(\"Soy una función interna.\")\n",
    "    \n",
    "    funcion_interna()\n",
    "\n",
    "funcion_principal()"
   ]
  }
 ],
 "metadata": {
  "language_info": {
   "name": "python"
  }
 },
 "nbformat": 4,
 "nbformat_minor": 2
}
