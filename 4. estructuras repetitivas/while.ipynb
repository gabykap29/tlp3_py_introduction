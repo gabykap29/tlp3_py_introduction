{
 "cells": [
  {
   "cell_type": "markdown",
   "metadata": {},
   "source": [
    "### Sintaxis:"
   ]
  },
  {
   "cell_type": "code",
   "execution_count": 1,
   "metadata": {},
   "outputs": [],
   "source": [
    "while():    \n",
    "    pass"
   ]
  },
  {
   "cell_type": "markdown",
   "metadata": {},
   "source": [
    "Lo que hace es ejecutar una porcion de codigo indefinidamente siempre que la expresion sea evaluada como True, al resultar False, se termina la ejecucion. \n",
    "\n",
    "## NOTA: recordar siempre cambiar la expresion evaluada, de lo contrario la instruccion se ejecutara infinitamente"
   ]
  },
  {
   "cell_type": "code",
   "execution_count": null,
   "metadata": {},
   "outputs": [
    {
     "name": "stdout",
     "output_type": "stream",
     "text": [
      "El contenido del contador es:  2\n",
      "El contenido del contador es:  1\n",
      "El contenido del contador es:  0\n"
     ]
    }
   ],
   "source": [
    "contador = 3\n",
    "\n",
    "while contador != 0:\n",
    "    contador = contador -1\n",
    "    print(\"El contenido del contador es: \", contador)"
   ]
  },
  {
   "cell_type": "markdown",
   "metadata": {},
   "source": [
    "### usar el else en el bucle **while**, el **else** se aplica siempre que el bucle se termine de manera natural."
   ]
  },
  {
   "cell_type": "code",
   "execution_count": 2,
   "metadata": {},
   "outputs": [
    {
     "name": "stdout",
     "output_type": "stream",
     "text": [
      "contraseña incorrecta\n",
      "contraseña incorrecta\n",
      "contraseña incorrecta\n",
      "Se acabaron los intentos\n"
     ]
    }
   ],
   "source": [
    "intentos = 3\n",
    "\n",
    "while intentos > 0:\n",
    "    if input(\"Ingrese una contraseña: \") == \"123\":\n",
    "        print(\"Correcto\")\n",
    "    intentos = intentos -1\n",
    "    print(\"contraseña incorrecta\")\n",
    "else:\n",
    "    print(\"Se acabaron los intentos\")"
   ]
  }
 ],
 "metadata": {
  "kernelspec": {
   "display_name": "env",
   "language": "python",
   "name": "python3"
  },
  "language_info": {
   "codemirror_mode": {
    "name": "ipython",
    "version": 3
   },
   "file_extension": ".py",
   "mimetype": "text/x-python",
   "name": "python",
   "nbconvert_exporter": "python",
   "pygments_lexer": "ipython3",
   "version": "3.13.1"
  }
 },
 "nbformat": 4,
 "nbformat_minor": 2
}
