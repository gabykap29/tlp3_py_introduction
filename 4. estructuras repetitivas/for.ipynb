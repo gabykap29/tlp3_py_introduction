{
 "cells": [
  {
   "cell_type": "markdown",
   "metadata": {},
   "source": [
    "\n",
    "### Sintaxis:\n",
    "\n",
    "## NOTA!: itera sobre una coleccion de elementos, es decir, recorre diferentes elementos de un conjunto de datos y ejecuta cierto bloque de codigo."
   ]
  },
  {
   "cell_type": "code",
   "execution_count": 12,
   "metadata": {},
   "outputs": [
    {
     "name": "stdout",
     "output_type": "stream",
     "text": [
      "0\n",
      "1\n",
      "2\n",
      "3\n",
      "H\n",
      "o\n",
      "l\n",
      "a\n",
      ",\n",
      " \n",
      "m\n",
      "u\n",
      "n\n",
      "d\n",
      "o\n",
      "0\n",
      "1\n",
      "2\n",
      "3\n",
      "4\n",
      "5\n",
      "6\n",
      "7\n",
      "8\n",
      "9\n",
      "10\n",
      "11\n"
     ]
    }
   ],
   "source": [
    "for iterador in [0,1,2,3]:\n",
    "    print(iterador)\n",
    "\n",
    "mi_variable = \"Hola, mundo\"\n",
    "for i in mi_variable:\n",
    "    print(i)\n",
    "\n",
    "# ! FORMA RECOMENDADA DE USAR EL FOR:\n",
    "\n",
    "for i in range(len(mi_variable)+1):\n",
    "    print(i)"
   ]
  },
  {
   "cell_type": "markdown",
   "metadata": {},
   "source": [
    "* se puede recorrer cualquier conjunto de datos: **list, tuple, set, dict** (aunque solo recorre las claves, para recorrer los valores, usar el metodo **.values()**, y para recorrer los pares, **.items()**)"
   ]
  },
  {
   "cell_type": "code",
   "execution_count": null,
   "metadata": {},
   "outputs": [
    {
     "name": "stdout",
     "output_type": "stream",
     "text": [
      "21\n",
      "30\n",
      "40\n"
     ]
    }
   ],
   "source": [
    "dict = {\"juan\":21, \"luis\": 30, \"matias\": 40}\n",
    "\n",
    "for idx, value in dict.items(): # items() devuelve una lista de tuplas\n",
    "    print(idx, value)\n",
    "    \n",
    "# for value in dict.values():\n",
    "#     print(value)\n",
    "    \n",
    "# for idx in dict:\n",
    "#     print(idx)"
   ]
  },
  {
   "cell_type": "markdown",
   "metadata": {},
   "source": [
    "Utilizar **else** en bucles **for** y **while**\n",
    "\n",
    "* el **else** se ejecuta al momento de que el bucle se acabe de manera natural, es decir, sin forzarse con break."
   ]
  },
  {
   "cell_type": "code",
   "execution_count": 17,
   "metadata": {},
   "outputs": [
    {
     "name": "stdout",
     "output_type": "stream",
     "text": [
      "0\n",
      "1\n",
      "2\n",
      "3\n",
      "El for ha terminado\n"
     ]
    }
   ],
   "source": [
    "for i in range(3+1):\n",
    "    print(i)\n",
    "else: \n",
    "    print(\"El for ha terminado\")\n"
   ]
  }
 ],
 "metadata": {
  "kernelspec": {
   "display_name": "Python 3",
   "language": "python",
   "name": "python3"
  },
  "language_info": {
   "codemirror_mode": {
    "name": "ipython",
    "version": 3
   },
   "file_extension": ".py",
   "mimetype": "text/x-python",
   "name": "python",
   "nbconvert_exporter": "python",
   "pygments_lexer": "ipython3",
   "version": "3.9.6"
  }
 },
 "nbformat": 4,
 "nbformat_minor": 2
}
