{
 "cells": [
  {
   "cell_type": "markdown",
   "metadata": {},
   "source": [
    "### LIST, Listas []\n",
    "\n",
    "* ordenadas\n",
    "* heterogeneas\n",
    "* mutables\n",
    "* se accede a los elementos de las listas de la siguiente forma"
   ]
  },
  {
   "cell_type": "code",
   "execution_count": 2,
   "metadata": {},
   "outputs": [
    {
     "name": "stdout",
     "output_type": "stream",
     "text": [
      "[0, 1, 2, 3, 4, 5]\n",
      "0\n"
     ]
    }
   ],
   "source": [
    "lista = [0,1,2,3,4,5]\n",
    "print(lista)\n",
    "\n",
    "print(lista[0])"
   ]
  },
  {
   "cell_type": "markdown",
   "metadata": {},
   "source": [
    "#### tambien con indices negativos"
   ]
  },
  {
   "cell_type": "code",
   "execution_count": 3,
   "metadata": {},
   "outputs": [
    {
     "name": "stdout",
     "output_type": "stream",
     "text": [
      "5\n"
     ]
    }
   ],
   "source": [
    "print(lista[-1])"
   ]
  },
  {
   "cell_type": "markdown",
   "metadata": {},
   "source": [
    "### acceder a secuencias de una lista (desde el primer indice hasta el anterior del segundo)"
   ]
  },
  {
   "cell_type": "code",
   "execution_count": 1,
   "metadata": {},
   "outputs": [
    {
     "ename": "NameError",
     "evalue": "name 'lista' is not defined",
     "output_type": "error",
     "traceback": [
      "\u001b[0;31m---------------------------------------------------------------------------\u001b[0m",
      "\u001b[0;31mNameError\u001b[0m                                 Traceback (most recent call last)",
      "Cell \u001b[0;32mIn[1], line 1\u001b[0m\n\u001b[0;32m----> 1\u001b[0m \u001b[38;5;28mprint\u001b[39m(\u001b[43mlista\u001b[49m[\u001b[38;5;241m0\u001b[39m:\u001b[38;5;241m3\u001b[39m])\n",
      "\u001b[0;31mNameError\u001b[0m: name 'lista' is not defined"
     ]
    }
   ],
   "source": [
    "print(lista[0:3])"
   ]
  },
  {
   "cell_type": "markdown",
   "metadata": {},
   "source": [
    "### se puden modificar los elementos accediendo a ellos y reasignandolos"
   ]
  },
  {
   "cell_type": "code",
   "execution_count": 147,
   "metadata": {},
   "outputs": [
    {
     "name": "stdout",
     "output_type": "stream",
     "text": [
      "[0, 1, 35, 3, 4, 5]\n"
     ]
    }
   ],
   "source": [
    "lista[2] = 35\n",
    "print(lista)"
   ]
  },
  {
   "cell_type": "markdown",
   "metadata": {},
   "source": [
    "#### Metodos importantes:\n",
    "\n",
    "* **append** = agrega un elemento al final de la lista\n",
    "* **count(elemento)** = lista la cantidad de veces que se repite un elemento\n",
    "* **index** = nos devuelve el indice de la primera aparicion de un elemnto\n",
    "* **remove(elemento)** = elimina la primera aparicion de un elemento"
   ]
  },
  {
   "cell_type": "code",
   "execution_count": 148,
   "metadata": {},
   "outputs": [
    {
     "name": "stdout",
     "output_type": "stream",
     "text": [
      "[0, 1, 35, 3, 4, 5, 0]\n",
      "2\n",
      "2\n",
      "[0, 35, 3, 4, 5, 0]\n"
     ]
    }
   ],
   "source": [
    "lista.append(0)\n",
    "print(lista)\n",
    "\n",
    "print(lista.count(0))\n",
    "\n",
    "print(lista.index(35))\n",
    "\n",
    "lista.remove(1)\n",
    "print(lista)"
   ]
  },
  {
   "cell_type": "markdown",
   "metadata": {},
   "source": [
    "### Tuplas ()\n",
    "\n",
    "* son solo de lectura\n",
    "* ordenadas\n",
    "* heterogeneas\n",
    "* inmutables\n",
    "* se accede a los elementos de la misma manera que con las listas\n",
    "* solo cuentan con el metodo count e index\n",
    "* no se pueden agregar ni quitar elementos, sin embargo se pueden sobreescribir"
   ]
  },
  {
   "cell_type": "code",
   "execution_count": 149,
   "metadata": {},
   "outputs": [
    {
     "name": "stdout",
     "output_type": "stream",
     "text": [
      "(1, 2, 3, 4, 5)\n",
      "(1, 2, 3, 4, 5, 6, 7, 8, 9, 10)\n"
     ]
    }
   ],
   "source": [
    "my_tuple = (1,2,3,4,5)\n",
    "print(my_tuple)\n",
    "my_tuple = (1,2,3,4,5,6,7,8,9,10)\n",
    "print(my_tuple)"
   ]
  },
  {
   "cell_type": "markdown",
   "metadata": {},
   "source": [
    "### Conjuntos, sets\n",
    "\n",
    "* no ordenados\n",
    "* heterogeneos\n",
    "* mutables \n",
    "* sin repeticion"
   ]
  },
  {
   "cell_type": "markdown",
   "metadata": {},
   "source": [
    "#### Metodos\n",
    "* **set** = permite crear un conjunto de elementos"
   ]
  },
  {
   "cell_type": "code",
   "execution_count": 150,
   "metadata": {},
   "outputs": [
    {
     "name": "stdout",
     "output_type": "stream",
     "text": [
      "{1, 2, 3, 4, 5}\n",
      "{'o', 'l', 'a', 'h'}\n"
     ]
    }
   ],
   "source": [
    "conjunto1 = set([1, 2, 3, 4, 4, 5])  # Los duplicados se eliminan\n",
    "print(conjunto1)\n",
    "\n",
    "# Crear un conjunto a partir de str\n",
    "conjunto2 = set(\"hola\")\n",
    "print(conjunto2)\n"
   ]
  },
  {
   "cell_type": "markdown",
   "metadata": {},
   "source": [
    "\n",
    "* **add** = agrega elementos al conjunto"
   ]
  },
  {
   "cell_type": "code",
   "execution_count": 151,
   "metadata": {},
   "outputs": [
    {
     "name": "stdout",
     "output_type": "stream",
     "text": [
      "{1, 2, 3, 4}\n"
     ]
    }
   ],
   "source": [
    "conjunto1 = {1, 2, 3}\n",
    "conjunto1.add(4)\n",
    "print(conjunto1) "
   ]
  },
  {
   "cell_type": "markdown",
   "metadata": {},
   "source": [
    "* **remove** = elimina elementos"
   ]
  },
  {
   "cell_type": "code",
   "execution_count": 152,
   "metadata": {},
   "outputs": [
    {
     "name": "stdout",
     "output_type": "stream",
     "text": [
      "{1, 2, 4}\n"
     ]
    }
   ],
   "source": [
    "conjunto1 = {1, 2, 3, 4}\n",
    "conjunto1.remove(3)\n",
    "print(conjunto1) "
   ]
  },
  {
   "cell_type": "markdown",
   "metadata": {},
   "source": [
    "* **intersecction** = nos muestra que elementos se repiten en los conjuntos\n",
    "\n",
    "en caso de ser un str, cada caracter sera una nueva posicion \n",
    "los elementos repetidos se eliminaran del conjunto\n",
    "\n",
    "ej: conjunto1.intersection(conjunto2)"
   ]
  },
  {
   "cell_type": "code",
   "execution_count": 153,
   "metadata": {},
   "outputs": [
    {
     "name": "stdout",
     "output_type": "stream",
     "text": [
      "{3, 4}\n"
     ]
    }
   ],
   "source": [
    "conjunto1 = {1, 2, 3, 4}\n",
    "conjunto2 = {3, 4, 5, 6}\n",
    "interseccion = conjunto1.intersection(conjunto2)\n",
    "print(interseccion) "
   ]
  },
  {
   "cell_type": "markdown",
   "metadata": {},
   "source": [
    "* **issubset** = devuelve True o False si un conjunto esta incluido en otro"
   ]
  },
  {
   "cell_type": "code",
   "execution_count": 154,
   "metadata": {},
   "outputs": [
    {
     "name": "stdout",
     "output_type": "stream",
     "text": [
      "True\n"
     ]
    }
   ],
   "source": [
    "conjunto1 = {1, 2, 3}\n",
    "conjunto2 = {1, 2, 3, 4, 5}\n",
    "es_subconjunto = conjunto1.issubset(conjunto2)\n",
    "print(es_subconjunto) "
   ]
  },
  {
   "cell_type": "markdown",
   "metadata": {},
   "source": [
    "#### Operadores\n",
    "\n",
    "* **A | B = union:** incluye todos los elementos de ambos conjuntos sin duplicados.\n",
    "\n",
    "* **A - B = diferencia:** devuelve los elementos que están en el primer conjunto pero no en el segundo.\n",
    "\n",
    "* **A & B = interseccion:**  los elementos comunes entre dos conjuntos.\n",
    "\n",
    "* **A ^ B = diferencia simetrica:** los elementos que están en uno de los conjuntos o en el otro, pero no en ambos.\n",
    "\n",
    "* **A >= B = superconjunto:** verifica si un conjunto es un superconjunto de otro,es decir, si contiene todos los elementos del otro conjunto.\n",
    "\n",
    "* **A <= B = subconjunto:** verifica si un conjunto es un subconjunto de otro,es decir, si todos sus elementos están en el otro conjunto."
   ]
  },
  {
   "cell_type": "code",
   "execution_count": null,
   "metadata": {},
   "outputs": [
    {
     "name": "stdout",
     "output_type": "stream",
     "text": [
      "{1, 2, 3, 4, 5, 6, 7}\n",
      "{1, 2, 3}\n",
      "{1, 2, 3, 6, 7}\n",
      "True\n",
      "True\n"
     ]
    }
   ],
   "source": [
    "conjunto1 = {1, 2, 3, 4, 5}\n",
    "conjunto2 = {4, 5, 6, 7}\n",
    "\n",
    "# ! Unión\n",
    "union = conjunto1 | conjunto2\n",
    "print(union)  \n",
    "\n",
    "# ! Diferencia\n",
    "diferencia = conjunto1 - conjunto2\n",
    "print(diferencia) \n",
    "\n",
    "# ! Diferencia simétrica\n",
    "diferencia_simetrica = conjunto1 ^ conjunto2\n",
    "print(diferencia_simetrica)  \n",
    "\n",
    "# ! Subconjunto\n",
    "es_subconjunto = {1, 3} <= conjunto1\n",
    "print(es_subconjunto)  \n",
    "\n",
    "# ! Superconjunto\n",
    "es_superconjunto = conjunto1 >= {1, 3}\n",
    "print(es_superconjunto)  "
   ]
  },
  {
   "cell_type": "markdown",
   "metadata": {},
   "source": [
    "### Diccionarios, {key: value}\n",
    "\n",
    "* no ordenados\n",
    "* heterogeneos\n",
    "* mutable\n",
    "* se almacenan pares de clave-valor\n",
    "\n",
    "* Se puede acceder a los valores colocando la key entre corchetes \n",
    "ej: dict[key] # valor correspondiente"
   ]
  },
  {
   "cell_type": "code",
   "execution_count": 156,
   "metadata": {},
   "outputs": [
    {
     "name": "stdout",
     "output_type": "stream",
     "text": [
      "{'nombre': 'Juan', 'edad': 25}\n",
      "Juan\n"
     ]
    }
   ],
   "source": [
    "persona = {'nombre': 'Juan', 'edad': 25}\n",
    "print(persona)\n",
    "print(persona['nombre'])"
   ]
  },
  {
   "cell_type": "markdown",
   "metadata": {},
   "source": [
    "* se pueden modificar los valores accediendo a los mismos y reasignandolos "
   ]
  },
  {
   "cell_type": "code",
   "execution_count": 157,
   "metadata": {},
   "outputs": [
    {
     "name": "stdout",
     "output_type": "stream",
     "text": [
      "Luis\n"
     ]
    }
   ],
   "source": [
    "persona['nombre'] = \"Luis\"\n",
    "print(persona['nombre'])"
   ]
  },
  {
   "cell_type": "markdown",
   "metadata": {},
   "source": [
    "* para agregar uno nuevo par de clave-valor se hace de la misma forma que para acceder a valor, como si ya exitiera y se le da un valor nuevo"
   ]
  },
  {
   "cell_type": "code",
   "execution_count": 158,
   "metadata": {},
   "outputs": [
    {
     "name": "stdout",
     "output_type": "stream",
     "text": [
      "{'nombre': 'Luis', 'edad': 25, 'apellido': 'Perez'}\n"
     ]
    }
   ],
   "source": [
    "persona[\"apellido\"] = \"Perez\"\n",
    "print(persona)"
   ]
  },
  {
   "cell_type": "markdown",
   "metadata": {},
   "source": [
    "#### Metodos:\n",
    "\n",
    "* **.keys()** = devuelve todas las keys \n",
    "\n",
    "* **.values()** = devuelve todos los valores\n",
    "\n",
    "* **.items()** = devuelve una lista de tuplas con los pares de key y values\n",
    "\n",
    "* **.pop(key)** = elimina un conjunto de clave-valor"
   ]
  },
  {
   "cell_type": "code",
   "execution_count": 159,
   "metadata": {},
   "outputs": [
    {
     "name": "stdout",
     "output_type": "stream",
     "text": [
      "dict_keys(['nombre', 'edad', 'apellido'])\n",
      "dict_values(['Luis', 25, 'Perez'])\n",
      "dict_items([('nombre', 'Luis'), ('edad', 25), ('apellido', 'Perez')])\n",
      "{'nombre': 'Luis', 'edad': 25}\n"
     ]
    }
   ],
   "source": [
    "print(persona.keys())\n",
    "print(persona.values())\n",
    "print(persona.items())\n",
    "persona.pop(\"apellido\")\n",
    "print(persona)"
   ]
  }
 ],
 "metadata": {
  "kernelspec": {
   "display_name": "Python 3",
   "language": "python",
   "name": "python3"
  },
  "language_info": {
   "codemirror_mode": {
    "name": "ipython",
    "version": 3
   },
   "file_extension": ".py",
   "mimetype": "text/x-python",
   "name": "python",
   "nbconvert_exporter": "python",
   "pygments_lexer": "ipython3",
   "version": "3.9.6"
  }
 },
 "nbformat": 4,
 "nbformat_minor": 2
}
