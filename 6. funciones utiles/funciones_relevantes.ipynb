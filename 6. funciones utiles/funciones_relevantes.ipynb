{
 "cells": [
  {
   "cell_type": "markdown",
   "metadata": {},
   "source": [
    "### Impremir en consola, equivalente al console.log() de JS"
   ]
  },
  {
   "cell_type": "code",
   "execution_count": 59,
   "metadata": {},
   "outputs": [
    {
     "name": "stdout",
     "output_type": "stream",
     "text": [
      "Hola Mundo!\n"
     ]
    }
   ],
   "source": [
    "print(\"Hola Mundo!\")"
   ]
  },
  {
   "cell_type": "markdown",
   "metadata": {},
   "source": [
    "### Conversiones de tipos de datos.\n",
    "\n",
    "#### **NOTA:** ES IMPORTANTE QUE LOS TIPOS QUE SE VAN A CONVERTIR COINCIDAN"
   ]
  },
  {
   "cell_type": "code",
   "execution_count": 60,
   "metadata": {},
   "outputs": [
    {
     "data": {
      "text/plain": [
       "False"
      ]
     },
     "execution_count": 60,
     "metadata": {},
     "output_type": "execute_result"
    }
   ],
   "source": [
    "\n",
    "# ! Str a Int\n",
    "int(\"123\")\n",
    "\n",
    "# ! Int a Floaat\n",
    "float(3)\n",
    "\n",
    "\n",
    "# ! Int o Float a Str\n",
    "str(100)\n",
    "\n",
    "# ! Tuple a List\n",
    "list((1, 2, 3))\n",
    "\n",
    "# ! List a Tuple\n",
    "tuple([1, 2, 3])\n",
    "\n",
    "# ! Int a Bool\n",
    "bool(0)"
   ]
  },
  {
   "cell_type": "markdown",
   "metadata": {},
   "source": [
    "### **len()** - Nos devuelve la canidad de elementos que hay en el conjunto de datos"
   ]
  },
  {
   "cell_type": "code",
   "execution_count": 61,
   "metadata": {},
   "outputs": [
    {
     "name": "stdout",
     "output_type": "stream",
     "text": [
      "6\n"
     ]
    }
   ],
   "source": [
    "print(len([0,1,2,3,4,5]))"
   ]
  },
  {
   "cell_type": "markdown",
   "metadata": {},
   "source": [
    "### **range()** - genera una secuencia de numeros enteros en un intervalo especifico, SE USA ESPECIALMENTE CON LSO BUCLES \"FOR\"\n",
    "\n",
    "* comenzara en el primer valor y seguira hasta uno antes del segundo valor, step se refiere a la cantidad de saltos que dara el intervalo\n",
    "* solo es necesario un valor, en ese caso el start default sera 0 y el step 1"
   ]
  },
  {
   "cell_type": "code",
   "execution_count": 62,
   "metadata": {},
   "outputs": [
    {
     "name": "stdout",
     "output_type": "stream",
     "text": [
      "1\n",
      "2\n",
      "3\n",
      "4\n",
      "5\n",
      "6\n",
      "7\n",
      "8\n",
      "9\n"
     ]
    }
   ],
   "source": [
    "# range(11)\n",
    "# range(10+1)\n",
    "for idx in range(1,10,1):\n",
    "    print(idx)"
   ]
  },
  {
   "cell_type": "markdown",
   "metadata": {},
   "source": [
    "### **input()** - Insertar valores por consola, nos pedira que ingresemos una valor mediante la consola, **este se convertira en str**. Si pasamos como argumento un str, este aparecera en primer lugar."
   ]
  },
  {
   "cell_type": "code",
   "execution_count": 63,
   "metadata": {},
   "outputs": [
    {
     "name": "stdout",
     "output_type": "stream",
     "text": [
      "El valor ingresado es:  \n"
     ]
    }
   ],
   "source": [
    "value = input(\"Ingresa un valor\")\n",
    "print(\"El valor ingresado es: \", value)"
   ]
  },
  {
   "cell_type": "markdown",
   "metadata": {},
   "source": [
    "### **type()** - Nos devuelve el tipo de dato de la variable."
   ]
  },
  {
   "cell_type": "code",
   "execution_count": 64,
   "metadata": {},
   "outputs": [
    {
     "name": "stdout",
     "output_type": "stream",
     "text": [
      "<class 'int'>\n",
      "<class 'str'>\n",
      "<class 'bool'>\n",
      "<class 'list'>\n",
      "<class 'tuple'>\n",
      "<class 'set'>\n",
      "<class 'dict'>\n"
     ]
    }
   ],
   "source": [
    "val1 = 1\n",
    "val2 = \"hola\"\n",
    "val3 = True\n",
    "val4 = []\n",
    "val5 = ()\n",
    "val6 = {0}\n",
    "val7 = {}\n",
    "\n",
    "print(type(val1))\n",
    "print(type(val2))\n",
    "print(type(val3))\n",
    "print(type(val4))\n",
    "print(type(val5))\n",
    "print(type(val6))\n",
    "print(type(val7))"
   ]
  },
  {
   "cell_type": "markdown",
   "metadata": {},
   "source": [
    "### **count()** - contar la cantidad de veces que se repite un caracter en un str"
   ]
  },
  {
   "cell_type": "code",
   "execution_count": 65,
   "metadata": {},
   "outputs": [
    {
     "data": {
      "text/plain": [
       "3"
      ]
     },
     "execution_count": 65,
     "metadata": {},
     "output_type": "execute_result"
    }
   ],
   "source": [
    "string = \"blablabla\"\n",
    "string.count(\"b\")"
   ]
  },
  {
   "cell_type": "markdown",
   "metadata": {},
   "source": [
    "### **Modulo random**, generacion de numeros random.\n",
    "\n",
    "* **random.randint()** genera enteros aleatorios (incluye el min y max)"
   ]
  },
  {
   "cell_type": "code",
   "execution_count": 66,
   "metadata": {},
   "outputs": [
    {
     "name": "stdout",
     "output_type": "stream",
     "text": [
      "6\n"
     ]
    }
   ],
   "source": [
    "import random\n",
    "\n",
    "numero_aleatorio = random.randint(1, 10)\n",
    "print(numero_aleatorio)"
   ]
  },
  {
   "cell_type": "markdown",
   "metadata": {},
   "source": [
    "* **random.random()** - Genera un número decimal aleatorio entre 0 y 1"
   ]
  },
  {
   "cell_type": "code",
   "execution_count": 67,
   "metadata": {},
   "outputs": [
    {
     "name": "stdout",
     "output_type": "stream",
     "text": [
      "0.7631155815874141\n"
     ]
    }
   ],
   "source": [
    "numero_decimal = random.random()\n",
    "print(numero_decimal)"
   ]
  },
  {
   "cell_type": "markdown",
   "metadata": {},
   "source": [
    "* **random.uniform()** -  Genera un número decimal aleatorio entre 1 y 10"
   ]
  },
  {
   "cell_type": "code",
   "execution_count": 68,
   "metadata": {},
   "outputs": [
    {
     "name": "stdout",
     "output_type": "stream",
     "text": [
      "8.035451816651308\n"
     ]
    }
   ],
   "source": [
    "numero_decimal_rango = random.uniform(1, 10)\n",
    "print(numero_decimal_rango)"
   ]
  },
  {
   "cell_type": "markdown",
   "metadata": {},
   "source": [
    "* **random.choice([])** - Elige un elemento aleatorio de la lista o tupla"
   ]
  },
  {
   "cell_type": "code",
   "execution_count": 69,
   "metadata": {},
   "outputs": [
    {
     "name": "stdout",
     "output_type": "stream",
     "text": [
      "30\n"
     ]
    }
   ],
   "source": [
    "lista = [10, 20, 30, 40, 50]\n",
    "\n",
    "elemento_aleatorio = random.choice(lista)\n",
    "print(elemento_aleatorio)"
   ]
  },
  {
   "cell_type": "markdown",
   "metadata": {},
   "source": [
    "### Operaciones matematicas. \n",
    "\n",
    "* **abs()** - devuelve el valor absoluto"
   ]
  },
  {
   "cell_type": "code",
   "execution_count": 70,
   "metadata": {},
   "outputs": [
    {
     "name": "stdout",
     "output_type": "stream",
     "text": [
      "El valor absoluto de -5 es:  5\n"
     ]
    }
   ],
   "source": [
    "print(\"El valor absoluto de -5 es: \", abs(-5))"
   ]
  },
  {
   "cell_type": "markdown",
   "metadata": {},
   "source": [
    "* **pow()** - potencia"
   ]
  },
  {
   "cell_type": "code",
   "execution_count": 71,
   "metadata": {},
   "outputs": [
    {
     "name": "stdout",
     "output_type": "stream",
     "text": [
      "La potencia de 2^3 es:  8\n"
     ]
    }
   ],
   "source": [
    "print(\"La potencia de 2^3 es: \", pow(2,3))"
   ]
  },
  {
   "cell_type": "markdown",
   "metadata": {},
   "source": [
    "* **round()** Redondear el numero a su entero"
   ]
  },
  {
   "cell_type": "code",
   "execution_count": 72,
   "metadata": {},
   "outputs": [
    {
     "name": "stdout",
     "output_type": "stream",
     "text": [
      "Redondeo de 10.50, 10\n",
      "Redondeo de 10.51, 11\n"
     ]
    }
   ],
   "source": [
    "print(\"Redondeo de 10.50,\", round(10.50))\n",
    "print(\"Redondeo de 10.51,\", round(10.51))"
   ]
  },
  {
   "cell_type": "markdown",
   "metadata": {},
   "source": [
    "* O a cifras decimales "
   ]
  },
  {
   "cell_type": "code",
   "execution_count": 73,
   "metadata": {},
   "outputs": [
    {
     "name": "stdout",
     "output_type": "stream",
     "text": [
      "Redondeo de 10.51, 10.5\n"
     ]
    }
   ],
   "source": [
    "print(\"Redondeo de 10.51,\", round(10.51,1))"
   ]
  },
  {
   "cell_type": "markdown",
   "metadata": {},
   "source": [
    "### **sum()** - suma de los elementos de una tupla, lista o conjunto"
   ]
  },
  {
   "cell_type": "code",
   "execution_count": 74,
   "metadata": {},
   "outputs": [
    {
     "name": "stdout",
     "output_type": "stream",
     "text": [
      "Suma:  6\n",
      "Suma:  6\n",
      "Suma:  6\n"
     ]
    }
   ],
   "source": [
    "print(\"Suma: \", sum(list([1,2,3]))) \n",
    "print(\"Suma: \", sum(tuple((1,2,3)))) \n",
    "print(\"Suma: \", sum(set((1,2,3)))) "
   ]
  },
  {
   "cell_type": "markdown",
   "metadata": {},
   "source": [
    "### **min(), max()** - Valores Maximos y minimos en tuplas o listas"
   ]
  },
  {
   "cell_type": "code",
   "execution_count": 75,
   "metadata": {},
   "outputs": [
    {
     "name": "stdout",
     "output_type": "stream",
     "text": [
      "Maximo:  3\n",
      "Minimo:  1\n"
     ]
    }
   ],
   "source": [
    "print(\"Maximo: \", max(list((1,2,3)))) \n",
    "print(\"Minimo: \", min(list([1,2,3]))) "
   ]
  },
  {
   "cell_type": "markdown",
   "metadata": {},
   "source": [
    "### **sorted()** - Ordenar listas de forma ascendente"
   ]
  },
  {
   "cell_type": "code",
   "execution_count": 76,
   "metadata": {},
   "outputs": [
    {
     "name": "stdout",
     "output_type": "stream",
     "text": [
      "[1, 2, 3, 4, 5, 6, 88]\n"
     ]
    }
   ],
   "source": [
    "print(sorted(list((3,2,5,6,88,4,1))))"
   ]
  },
  {
   "cell_type": "markdown",
   "metadata": {},
   "source": [
    "### **sorted(reverse=bool)** - Ordenar listas de forma descendente"
   ]
  },
  {
   "cell_type": "code",
   "execution_count": 77,
   "metadata": {},
   "outputs": [
    {
     "name": "stdout",
     "output_type": "stream",
     "text": [
      "[88, 6, 5, 4, 3, 2, 1]\n"
     ]
    }
   ],
   "source": [
    "print(sorted(list((3,2,5,6,88,4,1)), reverse=True))"
   ]
  },
  {
   "cell_type": "markdown",
   "metadata": {},
   "source": [
    "### **enumerate()** - Crea una tupla que enumere elementos desde 0, se puede establecer el numero por el cual empezara a contar"
   ]
  },
  {
   "cell_type": "code",
   "execution_count": 78,
   "metadata": {},
   "outputs": [
    {
     "name": "stdout",
     "output_type": "stream",
     "text": [
      "[(1, 'cero'), (2, 'uno'), (3, 'dos'), (4, 'tres')]\n"
     ]
    }
   ],
   "source": [
    "print(list(enumerate([\"cero\", \"uno\", \"dos\", \"tres\"], start=1)))"
   ]
  },
  {
   "cell_type": "markdown",
   "metadata": {},
   "source": [
    "### **zip()** - Combina 2 colecciones en una lista de tuplas, si tienen una cantidad diferente de elementos, se ajustara a la que menos datos tenga"
   ]
  },
  {
   "cell_type": "code",
   "execution_count": 79,
   "metadata": {},
   "outputs": [
    {
     "name": "stdout",
     "output_type": "stream",
     "text": [
      "[(1, 'uno'), (2, 'dos'), (3, 'tres')]\n"
     ]
    }
   ],
   "source": [
    "print(list(zip([1,2,3],[\"uno\", \"dos\", \"tres\"])))"
   ]
  }
 ],
 "metadata": {
  "kernelspec": {
   "display_name": "env",
   "language": "python",
   "name": "python3"
  },
  "language_info": {
   "codemirror_mode": {
    "name": "ipython",
    "version": 3
   },
   "file_extension": ".py",
   "mimetype": "text/x-python",
   "name": "python",
   "nbconvert_exporter": "python",
   "pygments_lexer": "ipython3",
   "version": "3.13.1"
  }
 },
 "nbformat": 4,
 "nbformat_minor": 2
}
