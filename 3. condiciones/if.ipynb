{
 "cells": [
  {
   "cell_type": "markdown",
   "metadata": {},
   "source": [
    "### Sintaxis:"
   ]
  },
  {
   "cell_type": "code",
   "execution_count": null,
   "metadata": {},
   "outputs": [],
   "source": [
    "\n",
    "# ! if normal\n",
    "\n",
    "if():\n",
    "    pass\n",
    "\n",
    "# ! if else\n",
    "# * si no se cumple una condicion, ocurrira lo siguiente \n",
    "if():\n",
    "    pass\n",
    "else:\n",
    "    pass\n",
    "\n",
    "# ! elif\n",
    "# * nos sirve para evaluar condiciones de manera encadenada\n",
    "if():\n",
    "    pass\n",
    "elif():\n",
    "    pass"
   ]
  },
  {
   "cell_type": "markdown",
   "metadata": {},
   "source": [
    "#### La evaluacion de la expresion siempre sera False cuando la expresion contenga un: \n",
    "\n",
    "* numero == a 0\n",
    "* conjunto vacio, ej: \"\", [], (), {}, set()\n",
    "* None\n",
    "* cuando el resultado de una operacion logica sea False"
   ]
  }
 ],
 "metadata": {
  "language_info": {
   "name": "python"
  }
 },
 "nbformat": 4,
 "nbformat_minor": 2
}
